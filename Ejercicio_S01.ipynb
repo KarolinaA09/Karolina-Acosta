{
  "nbformat": 4,
  "nbformat_minor": 0,
  "metadata": {
    "colab": {
      "provenance": [],
      "mount_file_id": "1RiyKkXPIJeHKX55XL3kHl0Us4suaZ92o",
      "authorship_tag": "ABX9TyP0/NQq5bXbTwVlzoiZvAiI"
    },
    "kernelspec": {
      "name": "python3",
      "display_name": "Python 3"
    },
    "language_info": {
      "name": "python"
    }
  },
  "cells": [
    {
      "cell_type": "markdown",
      "source": [
        "# **Ejercicio 1**\n"
      ],
      "metadata": {
        "id": "25o0JxUY9DeL"
      }
    },
    {
      "cell_type": "code",
      "execution_count": null,
      "metadata": {
        "id": "pVLPMj-SYtwZ"
      },
      "outputs": [],
      "source": [
        "#Librerías\n",
        "import cv2\n",
        "import numpy as np\n",
        "from google.colab.patches import cv2_imshow\n",
        "\n",
        "W = 100\n",
        "H = 100\n",
        "\n",
        "im = np.zeros((W,H), np.uint8)"
      ]
    },
    {
      "cell_type": "code",
      "source": [
        "for i in range(W): im[i,i] = 255\n",
        "\n",
        "cv2_imshow(im)"
      ],
      "metadata": {
        "colab": {
          "base_uri": "https://localhost:8080/",
          "height": 117
        },
        "id": "fXB8yeQ8YwJB",
        "outputId": "c27d39b5-55eb-4a54-85eb-87cf724abd13"
      },
      "execution_count": null,
      "outputs": [
        {
          "output_type": "display_data",
          "data": {
            "text/plain": [
              "<PIL.Image.Image image mode=L size=100x100>"
            ],
            "image/png": "[encoded data removed]"
          },
          "metadata": {}
        }
      ]
    },
    {
      "cell_type": "code",
      "source": [
        "K = 100\n",
        "L = 100\n",
        "\n",
        "im = np.zeros((K,L, 3), np.uint8)\n",
        "\n",
        "for i in range(K): im[20:80,20:80] = (0, 0, 255)\n",
        "for i in range(K): im[30:70,30:70] = (0, 255, 0)\n",
        "for i in range(K): im[40:60,40:60] = (255, 0, 0)\n",
        "for i in range(K): im[45:55,45:55] = (0, 0, 0)\n",
        "cv2_imshow(im)"
      ],
      "metadata": {
        "colab": {
          "base_uri": "https://localhost:8080/",
          "height": 117
        },
        "id": "dxIPNE4bcMBT",
        "outputId": "abd43bf0-b1c7-4ca9-9059-f7233b6fd749"
      },
      "execution_count": null,
      "outputs": [
        {
          "output_type": "display_data",
          "data": {
            "text/plain": [
              "<PIL.Image.Image image mode=RGB size=100x100>"
            ],
            "image/png": "[encoded data removed]"
          },
          "metadata": {}
        }
      ]
    },
    {
      "cell_type": "code",
      "source": [
        "im_2 = np.zeros((W, H, 3), np.uint8)\n",
        "\n",
        "for i in range(W): im_2[30:70, 30:70] = (0, 0, 255)\n",
        "for i in range(W): im_2[35:65, 35:65] = (0, 255, 0)\n",
        "for i in range(W): im_2[40:60, 40:60] = (255, 0, 0)\n",
        "for i in range(W): im_2[45:55, 45:55] = (0, 0, 0)\n",
        "\n",
        "cv2_imshow(im_2)"
      ],
      "metadata": {
        "id": "ZQCt_xWd2xYj",
        "colab": {
          "base_uri": "https://localhost:8080/",
          "height": 117
        },
        "outputId": "cd6caab1-22f1-49d1-8f98-75913934430b"
      },
      "execution_count": null,
      "outputs": [
        {
          "output_type": "display_data",
          "data": {
            "text/plain": [
              "<PIL.Image.Image image mode=RGB size=100x100>"
            ],
            "image/png": "[encoded data removed]"
          },
          "metadata": {}
        }
      ]
    },
    {
      "cell_type": "code",
      "source": [
        "# Tamaño de la imagen\n",
        "W = 200\n",
        "H = 200\n",
        "\n",
        "# Crear una imagen en blanco\n",
        "im = np.zeros((H, W, 3), np.uint8)\n",
        "\n",
        "# Definir el número de líneas horizontales (y su frecuencia) basadas en la función seno\n",
        "num_lines = 10\n",
        "frequency = 20  # Frecuencia de la onda seno\n",
        "\n",
        "# Dibujar las líneas horizontales que siguen una función seno\n",
        "for i in range(num_lines):\n",
        "    amplitude = int(H / (50))  # La amplitud de la línea varía con la frecuencia\n",
        "    y_offset = H // (num_lines + 1) * (i + 1)\n",
        "\n",
        "    # Generar puntos basados en la función seno\n",
        "    x = np.arange(0, W)\n",
        "    y = amplitude * np.sin(2 * np.pi * frequency * x / W) + y_offset\n",
        "\n",
        "    # Convertir los puntos a enteros\n",
        "    points = np.column_stack((x, y)).astype(np.int32)\n",
        "\n",
        "    # Calcular un color degradado\n",
        "    color_start = (255, 0, 0)  # Color inicial (azul)\n",
        "    color_end = (82, 183, 136)    # Color final (rojo)\n",
        "    color = tuple(int(start + (end - start) * i / num_lines) for start, end in zip(color_start, color_end))\n",
        "\n",
        "    # Dibujar la línea\n",
        "    cv2.polylines(im, [points], isClosed=False, color=color, thickness=1)\n",
        "\n",
        "# Mostrar la imagen\n",
        "cv2_imshow(im)\n"
      ],
      "metadata": {
        "colab": {
          "base_uri": "https://localhost:8080/",
          "height": 217
        },
        "id": "4tnAveLKDDSL",
        "outputId": "091c5944-e931-4b0a-fec6-4b8a80bc496a"
      },
      "execution_count": null,
      "outputs": [
        {
          "output_type": "display_data",
          "data": {
            "text/plain": [
              "<PIL.Image.Image image mode=RGB size=200x200>"
            ],
            "image/png": "[encoded data removed]"
          },
          "metadata": {}
        }
      ]
    }
  ]
}
